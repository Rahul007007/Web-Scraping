{
 "cells": [
  {
   "cell_type": "code",
   "execution_count": 158,
   "id": "2d63a8f8",
   "metadata": {},
   "outputs": [],
   "source": [
    "from bs4 import BeautifulSoup\n",
    "import requests\n",
    "import pandas as pd\n",
    "import time\n",
    "headers ={'User-Agent': 'Mozilla/5.0 (Windows NT 10.0; Win64; x64) AppleWebKit/537.36 (KHTML, like Gecko) Chrome/104.0.5112.81 Safari/537.36'}\n",
    "link = 'https://www.amazon.in/MSI-i5-11400H-Windows-GTX1650-11SC-853IN/dp/B09YYJ19YQ/ref=sr_1_6?keywords=gaming%2Blaptops&qid=1662275401&sr=8-6&th=1'\n",
    "html_text = requests.get(link, headers=headers)\n",
    "soup = BeautifulSoup(html_text.content,'lxml')\n",
    "table = soup.find('table', id=\"productDetails_techSpec_section_1\")\n",
    "\n",
    "\n"
   ]
  },
  {
   "cell_type": "code",
   "execution_count": 159,
   "id": "8d943eda",
   "metadata": {},
   "outputs": [],
   "source": [
    "brand = []\n",
    "resolution = []\n",
    "p_speed = []\n",
    "r_size = []\n",
    "m_c_speed =[]\n",
    "hdd_size = []\n",
    "hdd_desc = []\n",
    "b_life = []\n",
    "b_energy = []\n",
    "sc_size = []\n",
    "for item in table.find_all('tr'):\n",
    "    detail = item.th.text\n",
    "    if (detail).startswith(' Brand'):\n",
    "        b = item.td.get_text(strip=True)\n",
    "        brand.append(b)\n",
    "\n",
    "    if (detail).startswith(' Standing screen display size'):\n",
    "        b = item.td.get_text(strip=True)\n",
    "        sc_size.append(b)\n",
    "        \n",
    "    if ((detail).__contains__(' Resolution')) :\n",
    "        b = item.td.get_text(strip=True)\n",
    "        resolution.append(b)\n",
    "\n",
    "    if (detail).startswith(' Processor Speed'):\n",
    "        b = item.td.get_text(strip=True)\n",
    "        p_speed.append(b)\n",
    "\n",
    "    if (detail).startswith(' RAM Size'):\n",
    "        b = item.td.get_text(strip=True)\n",
    "        r_size.append(b)\n",
    "\n",
    "    if (detail).startswith(' Memory Clock Speed'):\n",
    "        b = item.td.get_text(strip=True)\n",
    "        m_c_speed.append(b)\n",
    "\n",
    "    if (detail).startswith(' Hard Drive Size'):\n",
    "        b = item.td.get_text(strip=True)\n",
    "        hdd_size.append(b)\n",
    "\n",
    "    if (detail).startswith(' Hard Disk Description'):\n",
    "        b = item.td.get_text(strip=True)\n",
    "        hdd_desc.append(b)\n",
    "    \n",
    "    if (detail).startswith(' Average Battery Life'):\n",
    "        b = item.td.get_text(strip=True)\n",
    "        b_life.append(b)\n",
    "        \n",
    "    if (detail).startswith(' Lithium Battery Energy Content'):\n",
    "        b = item.td.get_text(strip=True)\n",
    "        b_energy.append(b)\n",
    "    \n",
    "            "
   ]
  },
  {
   "cell_type": "code",
   "execution_count": 166,
   "id": "f77532af",
   "metadata": {},
   "outputs": [
    {
     "name": "stdout",
     "output_type": "stream",
     "text": [
      "['\\u200e4500 MHz']\n"
     ]
    }
   ],
   "source": [
    "print(p_speed)"
   ]
  },
  {
   "cell_type": "code",
   "execution_count": 160,
   "id": "3266c23c",
   "metadata": {
    "scrolled": true
   },
   "outputs": [],
   "source": [
    "lap = {' Brand ':brand,' Screen size ': sc_size,' Resolution ': resolution, ' Processor Speed ':p_speed, ' RAM Size ':r_size, ' Memory Clock Speed ':m_c_speed, ' Hard Drive Size ': hdd_size, ' Hard Disk Description ': hdd_desc, ' Average Battery Life ': b_life, ' Lithium Battery Energy Content': b_energy   }\n",
    "df = pd.DataFrame.from_dict(lap, orient='index')\n",
    "df = df.transpose()"
   ]
  },
  {
   "cell_type": "code",
   "execution_count": 161,
   "id": "ce3d6698",
   "metadata": {
    "scrolled": true
   },
   "outputs": [
    {
     "data": {
      "text/html": [
       "<div>\n",
       "<style scoped>\n",
       "    .dataframe tbody tr th:only-of-type {\n",
       "        vertical-align: middle;\n",
       "    }\n",
       "\n",
       "    .dataframe tbody tr th {\n",
       "        vertical-align: top;\n",
       "    }\n",
       "\n",
       "    .dataframe thead th {\n",
       "        text-align: right;\n",
       "    }\n",
       "</style>\n",
       "<table border=\"1\" class=\"dataframe\">\n",
       "  <thead>\n",
       "    <tr style=\"text-align: right;\">\n",
       "      <th></th>\n",
       "      <th>Brand</th>\n",
       "      <th>Screen size</th>\n",
       "      <th>Resolution</th>\n",
       "      <th>Processor Speed</th>\n",
       "      <th>RAM Size</th>\n",
       "      <th>Memory Clock Speed</th>\n",
       "      <th>Hard Drive Size</th>\n",
       "      <th>Hard Disk Description</th>\n",
       "      <th>Average Battery Life</th>\n",
       "      <th>Lithium Battery Energy Content</th>\n",
       "    </tr>\n",
       "  </thead>\n",
       "  <tbody>\n",
       "    <tr>\n",
       "      <th>0</th>\n",
       "      <td>‎MSI</td>\n",
       "      <td>‎40 Centimetres</td>\n",
       "      <td>‎1080p, 1280 x 720</td>\n",
       "      <td>‎4500 MHz</td>\n",
       "      <td>‎8 GB</td>\n",
       "      <td>None</td>\n",
       "      <td>None</td>\n",
       "      <td>‎SSD</td>\n",
       "      <td>None</td>\n",
       "      <td>None</td>\n",
       "    </tr>\n",
       "  </tbody>\n",
       "</table>\n",
       "</div>"
      ],
      "text/plain": [
       "   Brand      Screen size          Resolution   Processor Speed   RAM Size   \\\n",
       "0    ‎MSI  ‎40 Centimetres  ‎1080p, 1280 x 720         ‎4500 MHz      ‎8 GB   \n",
       "\n",
       "   Memory Clock Speed   Hard Drive Size   Hard Disk Description   \\\n",
       "0                 None              None                    ‎SSD   \n",
       "\n",
       "   Average Battery Life   Lithium Battery Energy Content  \n",
       "0                   None                            None  "
      ]
     },
     "execution_count": 161,
     "metadata": {},
     "output_type": "execute_result"
    }
   ],
   "source": [
    "df"
   ]
  },
  {
   "cell_type": "code",
   "execution_count": null,
   "id": "bc5f804a",
   "metadata": {},
   "outputs": [],
   "source": []
  },
  {
   "cell_type": "code",
   "execution_count": null,
   "id": "baa59806",
   "metadata": {},
   "outputs": [],
   "source": []
  }
 ],
 "metadata": {
  "hide_input": false,
  "kernelspec": {
   "display_name": "Python 3 (ipykernel)",
   "language": "python",
   "name": "python3"
  },
  "language_info": {
   "codemirror_mode": {
    "name": "ipython",
    "version": 3
   },
   "file_extension": ".py",
   "mimetype": "text/x-python",
   "name": "python",
   "nbconvert_exporter": "python",
   "pygments_lexer": "ipython3",
   "version": "3.10.6"
  },
  "toc": {
   "base_numbering": 1,
   "nav_menu": {},
   "number_sections": true,
   "sideBar": true,
   "skip_h1_title": false,
   "title_cell": "Table of Contents",
   "title_sidebar": "Contents",
   "toc_cell": false,
   "toc_position": {},
   "toc_section_display": true,
   "toc_window_display": false
  }
 },
 "nbformat": 4,
 "nbformat_minor": 5
}
